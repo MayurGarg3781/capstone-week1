{
 "cells": [
  {
   "cell_type": "markdown",
   "metadata": {},
   "source": [
    "# The Battle of the Neighbourhoods – Week 1\n",
    "\n",
    "## Introduction and Business Problem:-\n",
    "\n",
    "### Background Info:\n",
    "\n",
    "The City of New York is the most populous in the United States. It is diverse and is the financial capital of the USA. It is multicultural and provides a lot of business opportunities and a business-friendly environment. It has attracted many different players into the market. This City is full of finance, retailing, world trade, transportation, tourism, real estate, a new state, new media, insurance, theatre, fashion, and the arts in the United States.\n",
    "This also means that the market is highly competitive. So the business needs to ve analysed carefully. This help in the reduction of risk in business or any venture opened in the main market.\n",
    "\n",
    "### Problem Description:\n",
    "A restaurant is a business which prepares and serves food and drink to customers in return for money, either paid before and after the meal. The City of New York is famous for its excellent cuisine. Its food culture includes an array of international cuisines influenced by the city’s immigrant history.\n",
    "  1.\tCentral and Eastern European immigrants, especially Jewish immigrants         – bagels, cheesecake, hot dogs, knishes and delicatessens.\n",
    "  2.\tItalian immigrants – New York-style pizza and Italian cuisine.\n",
    "  3.\tJewish immigrants and Irish immigrants – pastrami and corned beef\n",
    "  4.\tChinese and other Asian restaurants, sandwich joints, trattorias,             diners and coffeehouses are ubiquitous throughout the city\n",
    "  5.\tMobile food vendors – Some 4,000 licensed by the city\n",
    "  6.\tMiddle Eastern foods such as falafel and kebabs examples of modern           New York street food.\n",
    "  7.\tIt is famous for not just Pizzerias, Cafe’s but also for fine dining         Michelin starred restaurants. The city is home to “nearly one                 thousand of the finest and most diverse haute cuisine restaurants in         the world”, according to Michelin.\n",
    "So it is evident that to survive in such a highly competitive market, it is very important to strategically plan. Various factors need to be studied to decide on the Location such as:\n",
    "  1.\tNew York Population\n",
    "  2.\tNew York City Demographics \n",
    "  3.\tAre there any Farmer's Markets, Wholesale markets, etc nearby so that         the ingredients can be purchased fresh to maintain the quality and           cost-effective.\n",
    "  4.\tAre there any popular venues, sites, theatre nearby where the centre         city population is high.\n",
    "  5.\tWho are the competitors in that locality?\n",
    "  6.\tQuality vs Cost can be decided based on the locality and competition         nearby area.\n",
    "  7.\tSegmentation of the Borough\n",
    "  8.\tUntapped markets\n",
    "  9.\tSaturated markets etc\n",
    "  10.\tAlso, consider different types of varieties of cuisine can be prepared.\n",
    "The list continues to go on……..\n",
    "Even though the well-funded company is there, let’s say XYZ. But that’s not enough to be satisfied, the company need to choose the correct location to start its first venture. If this is successful they can move to the next location.\n",
    "\n",
    "### Target Audience:\n",
    "To recommend the correct location, XYZ Company Ltd has appointed the Data Science team. The objective is to locate and recommend to the management, which neighbourhood of New York City will be the best choice to start a restaurant. The Management also expects to understand recommendations made.\n",
    "This would interest anyone who wants to start a new restaurant in New York City.\n",
    "\n",
    "### Success Criteria:\n",
    "The success criteria of the project will be a good recommendation of Borough/Neighborhood choice to XYZ company Ltd, based on Lack of such restaurants in that location and nearest suppliers of ingredients.\n",
    "\n",
    "\n"
   ]
  },
  {
   "cell_type": "code",
   "execution_count": null,
   "metadata": {},
   "outputs": [],
   "source": []
  }
 ],
 "metadata": {
  "kernelspec": {
   "display_name": "Python 3",
   "language": "python",
   "name": "python3"
  },
  "language_info": {
   "codemirror_mode": {
    "name": "ipython",
    "version": 3
   },
   "file_extension": ".py",
   "mimetype": "text/x-python",
   "name": "python",
   "nbconvert_exporter": "python",
   "pygments_lexer": "ipython3",
   "version": "3.7.3"
  }
 },
 "nbformat": 4,
 "nbformat_minor": 4
}
